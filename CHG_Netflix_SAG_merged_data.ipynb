{
 "metadata": {
  "language_info": {
   "codemirror_mode": {
    "name": "ipython",
    "version": 3
   },
   "file_extension": ".py",
   "mimetype": "text/x-python",
   "name": "python",
   "nbconvert_exporter": "python",
   "pygments_lexer": "ipython3",
   "version": "3.7.6-final"
  },
  "orig_nbformat": 2,
  "kernelspec": {
   "name": "python_defaultSpec_1600562278434",
   "display_name": "Python 3.7.6 64-bit ('ProgramData': virtualenv)"
  }
 },
 "nbformat": 4,
 "nbformat_minor": 2,
 "cells": [
  {
   "cell_type": "code",
   "execution_count": null,
   "metadata": {},
   "outputs": [],
   "source": [
    "# Bring in my dependencies\n",
    "\n",
    "import pandas as pd\n",
    "import os, csv\n",
    "import numpy as np\n",
    "from sqlalchemy import create_engine\n",
    "from itertools import chain"
   ]
  },
  {
   "cell_type": "code",
   "execution_count": null,
   "metadata": {},
   "outputs": [],
   "source": [
    "# Create a function I saw online for creating a list that chains through\n",
    "# each value, and every time it finds a ',' it will separate and create a new row\n",
    "# I will be using this function for the cast series\n",
    "\n",
    "def chainer(s):\n",
    "    return list(chain.from_iterable(s.str.split(', ')))"
   ]
  },
  {
   "cell_type": "code",
   "execution_count": null,
   "metadata": {},
   "outputs": [],
   "source": [
    "# Import my netflix data file, and turn it into a pandas dataframe then drop any NULL values\n",
    "\n",
    "netflix_data = os.path.join('Resources','netflix','netflix_titles.csv')\n",
    "netflix = pd.read_csv(netflix_data)\n",
    "netflix_df = pd.DataFrame(netflix)\n",
    "netflix_df = netflix_df.dropna()"
   ]
  },
  {
   "cell_type": "code",
   "execution_count": null,
   "metadata": {},
   "outputs": [],
   "source": [
    "# Creating a new copy of the dataframe, only bringing in the series that I need from the source dataframe\n",
    "\n",
    "cleaned_stage1_netflix = netflix_df[['show_id','type','title','director','cast','release_year','description']].copy()\n",
    "\n",
    "# Creating a number value that calculates the length of a series once it has been broken up by the ',' symbol\n",
    "# I will be using this variable to break out the list of actors to individual values per row\n",
    "\n",
    "lens = cleaned_stage1_netflix['cast'].str.split(', ').map(len)\n",
    "\n",
    "# I now create a new dataframe that will repeat the values for all series depending upon the cast member that is\n",
    "# present in the individual rows. i.e. if there is an original row with the data The Departed - leo dicaprio, matt damon, \n",
    "# jack nicholson - it will create three rows with the departed as the title - one for Leo, one for Matt, and one for Jack\n",
    "\n",
    "cleaned_stage2_netflix = pd.DataFrame({\n",
    "    'show_id':np.repeat(cleaned_stage1_netflix['show_id'],lens),\n",
    "    'type':np.repeat(cleaned_stage1_netflix['type'],lens),\n",
    "    'title':np.repeat(cleaned_stage1_netflix['title'],lens),\n",
    "    'director':np.repeat(cleaned_stage1_netflix['director'],lens),\n",
    "    'full_name':chainer(cleaned_stage1_netflix['cast']),\n",
    "    'release_year':np.repeat(cleaned_stage1_netflix['release_year'],lens),\n",
    "    'description':np.repeat(cleaned_stage1_netflix['description'],lens)\n",
    "})"
   ]
  },
  {
   "cell_type": "code",
   "execution_count": null,
   "metadata": {},
   "outputs": [],
   "source": [
    "# Further cleaning of my dataframe, stripping the value of blanks in title and full_name and put them both into title case\n",
    "\n",
    "cleaned_stage3_netflix = cleaned_stage2_netflix\n",
    "cleaned_stage3_netflix['title'] = cleaned_stage3_netflix['title'].str.strip().str.title()\n",
    "cleaned_stage3_netflix['full_name'] = cleaned_stage3_netflix['full_name'].str.strip().str.title()\n",
    "\n",
    "# Here, I am creating a unique id for the pairing of the movie and actor/actress by generating a numbered range\n",
    "# that is equal to the number of my pandas dataframe\n",
    "\n",
    "ids = []\n",
    "for x in range(len(cleaned_stage3_netflix['show_id'])):\n",
    "    ids.append(x)\n",
    "\n",
    "# Next, I create the pandas series, and insert it into the 0 position so that it will be placed in front\n",
    "# of all other values\n",
    "cleaned_stage3_netflix.insert(0,'id',ids)\n",
    "\n",
    "# renaming dataframe for my personal use (makes my life a bit easier)\n",
    "\n",
    "final_netflix_df = cleaned_stage3_netflix"
   ]
  },
  {
   "cell_type": "code",
   "execution_count": null,
   "metadata": {},
   "outputs": [],
   "source": [
    "# Import in my SAG awards data file, and turn it into a dataframe\n",
    "\n",
    "sag_data = os.path.join('Resources','SAG','screen_actor_guild_awards.csv')\n",
    "sag = pd.read_csv(sag_data)\n",
    "sag_df = pd.DataFrame(sag)\n",
    "\n",
    "# Need to slice the string values for a given award ceremony year by splitting the strings\n",
    "# by a ' ' and then selecting the first value of each string\n",
    "#\n",
    "# had values like '2020 SAG Awards in Long Beach' and returned the value '2020'\n",
    "#\n",
    "# I also created a for loop that would save each year value to a list, so that I could insert\n",
    "# them back into the dataframe\n",
    "\n",
    "years = []\n",
    "\n",
    "for x in range(len(sag_df['year'])-1):\n",
    "    years.append(sag_df['year'].str.split(' ')[x][0])"
   ]
  },
  {
   "cell_type": "code",
   "execution_count": null,
   "metadata": {},
   "outputs": [],
   "source": [
    "# Here are some more transformations I made to the sag df\n",
    "#\n",
    "# Starting with appending the new years list to the dataframe\n",
    "\n",
    "sag_df['years_cleaned'] = pd.Series(years)\n",
    "\n",
    "# Creating a new dataframe copy from the original, selecting only the series that I need\n",
    "# for my data merge\n",
    "\n",
    "cleaned_stage1_sag = sag_df[['years_cleaned','category','full_name','show','won']].copy()\n",
    "\n",
    "# I reset my index here in order to obtain unique id values for each of the awards\n",
    "\n",
    "cleaned_stage2_sag = cleaned_stage1_sag.dropna().reset_index()\n",
    "\n",
    "# Stripped and title cased that actor/actresses names and the show names to match the netflix dataframe \n",
    "\n",
    "cleaned_stage2_sag['full_name'] = cleaned_stage2_sag['full_name'].str.title().str.strip()\n",
    "cleaned_stage2_sag['show'] = cleaned_stage2_sag['show'].str.title().str.strip()\n",
    "\n",
    "# Renamed the individual dataframes series, and set the index to match the values in my SQL tables\n",
    "\n",
    "cleaned_stage3_sag = cleaned_stage2_sag.rename(columns={'years_cleaned':'year','index':'id','show':'title'})\n",
    "final_sag_df = cleaned_stage3_sag.set_index('id')"
   ]
  },
  {
   "cell_type": "code",
   "execution_count": null,
   "metadata": {},
   "outputs": [],
   "source": [
    "# With both of my dataframes made, I am ready to merge the data, I will be merging the information\n",
    "# on title to see which of these match from the two dataframes\n",
    "\n",
    "merge_test = pd.merge(final_netflix_df, final_sag_df, on='title')\n",
    "\n",
    "# With the titles matched, I then create a new dataframe that only contains values where the actor/actress names from\n",
    "# the Netflix data match 1-to-1 with the actor/actress names from the SAG data\n",
    "\n",
    "merge_test = merge_test[merge_test['full_name_x'] == merge_test['full_name_y']]\n",
    "\n",
    "# Next, I create a new dataframe - taking only the series that I need for my SQL tables, and renaming the full_name_x category to\n",
    "# full_name\n",
    "\n",
    "merge_test_stage2 = merge_test[['id','show_id','type','director','full_name_x','title','release_year','description','category','won']]\n",
    "merge_test_stage3 = merge_test_stage2.rename(columns={'full_name_x':'full_name'})"
   ]
  },
  {
   "cell_type": "code",
   "execution_count": null,
   "metadata": {},
   "outputs": [],
   "source": [
    "# Now that I have completed my source dataframe creation by merging and cleaning my Netflix\n",
    "# and SAG data, I am ready to export it to a csv and move on to creating the dataframes\n",
    "# that will be used to populate my SQL tables.\n",
    "\n",
    "merge_test_stage3.to_csv('Resources/cleaned_merged/cleaned_netflix_sag_data.csv')"
   ]
  }
 ]
}