{
 "metadata": {
  "language_info": {
   "codemirror_mode": {
    "name": "ipython",
    "version": 3
   },
   "file_extension": ".py",
   "mimetype": "text/x-python",
   "name": "python",
   "nbconvert_exporter": "python",
   "pygments_lexer": "ipython3",
   "version": "3.7.6-final"
  },
  "orig_nbformat": 2,
  "kernelspec": {
   "name": "python_defaultSpec_1600542471879",
   "display_name": "Python 3.7.6 64-bit ('base': conda)"
  }
 },
 "nbformat": 4,
 "nbformat_minor": 2,
 "cells": [
  {
   "cell_type": "code",
   "execution_count": 1,
   "metadata": {},
   "outputs": [],
   "source": [
    "import pandas as pd\n",
    "import os, csv\n",
    "import numpy as np\n",
    "from sqlalchemy import create_engine\n"
   ]
  },
  {
   "cell_type": "code",
   "execution_count": 2,
   "metadata": {},
   "outputs": [
    {
     "output_type": "execute_result",
     "data": {
      "text/plain": "        id   show_id   type           director          full_name  \\\n0      279  80201906  Movie       Ryan Coogler   Chadwick Boseman   \n1      280  80201906  Movie       Ryan Coogler  Michael B. Jordan   \n2      282  80201906  Movie       Ryan Coogler       Danai Gurira   \n3      283  80201906  Movie       Ryan Coogler     Martin Freeman   \n4      284  80201906  Movie       Ryan Coogler     Daniel Kaluuya   \n..     ...       ...    ...                ...                ...   \n274  28777    607931  Movie  Jocelyn Moorhouse      Kate Nelligan   \n275  28778    607931  Movie  Jocelyn Moorhouse      Alfre Woodard   \n276  28784    607931  Movie  Jocelyn Moorhouse       Maya Angelou   \n277  28788    607931  Movie  Jocelyn Moorhouse       Jean Simmons   \n278  28791    607931  Movie  Jocelyn Moorhouse    Samantha Mathis   \n\n                             title  release_year  \\\n0                    Black Panther          2018   \n1                    Black Panther          2018   \n2                    Black Panther          2018   \n3                    Black Panther          2018   \n4                    Black Panther          2018   \n..                             ...           ...   \n274  How To Make An American Quilt          1995   \n275  How To Make An American Quilt          1995   \n276  How To Make An American Quilt          1995   \n277  How To Make An American Quilt          1995   \n278  How To Make An American Quilt          1995   \n\n                                           description  \\\n0    T'Challa, the superpowered new leader of the h...   \n1    T'Challa, the superpowered new leader of the h...   \n2    T'Challa, the superpowered new leader of the h...   \n3    T'Challa, the superpowered new leader of the h...   \n4    T'Challa, the superpowered new leader of the h...   \n..                                                 ...   \n274  A conflicted young woman spends the summer wit...   \n275  A conflicted young woman spends the summer wit...   \n276  A conflicted young woman spends the summer wit...   \n277  A conflicted young woman spends the summer wit...   \n278  A conflicted young woman spends the summer wit...   \n\n                     category    won  \n0    CAST IN A MOTION PICTURE   True  \n1    CAST IN A MOTION PICTURE   True  \n2    CAST IN A MOTION PICTURE   True  \n3    CAST IN A MOTION PICTURE   True  \n4    CAST IN A MOTION PICTURE   True  \n..                        ...    ...  \n274  CAST IN A MOTION PICTURE  False  \n275  CAST IN A MOTION PICTURE  False  \n276  CAST IN A MOTION PICTURE  False  \n277  CAST IN A MOTION PICTURE  False  \n278  CAST IN A MOTION PICTURE  False  \n\n[279 rows x 10 columns]",
      "text/html": "<div>\n<style scoped>\n    .dataframe tbody tr th:only-of-type {\n        vertical-align: middle;\n    }\n\n    .dataframe tbody tr th {\n        vertical-align: top;\n    }\n\n    .dataframe thead th {\n        text-align: right;\n    }\n</style>\n<table border=\"1\" class=\"dataframe\">\n  <thead>\n    <tr style=\"text-align: right;\">\n      <th></th>\n      <th>id</th>\n      <th>show_id</th>\n      <th>type</th>\n      <th>director</th>\n      <th>full_name</th>\n      <th>title</th>\n      <th>release_year</th>\n      <th>description</th>\n      <th>category</th>\n      <th>won</th>\n    </tr>\n  </thead>\n  <tbody>\n    <tr>\n      <th>0</th>\n      <td>279</td>\n      <td>80201906</td>\n      <td>Movie</td>\n      <td>Ryan Coogler</td>\n      <td>Chadwick Boseman</td>\n      <td>Black Panther</td>\n      <td>2018</td>\n      <td>T'Challa, the superpowered new leader of the h...</td>\n      <td>CAST IN A MOTION PICTURE</td>\n      <td>True</td>\n    </tr>\n    <tr>\n      <th>1</th>\n      <td>280</td>\n      <td>80201906</td>\n      <td>Movie</td>\n      <td>Ryan Coogler</td>\n      <td>Michael B. Jordan</td>\n      <td>Black Panther</td>\n      <td>2018</td>\n      <td>T'Challa, the superpowered new leader of the h...</td>\n      <td>CAST IN A MOTION PICTURE</td>\n      <td>True</td>\n    </tr>\n    <tr>\n      <th>2</th>\n      <td>282</td>\n      <td>80201906</td>\n      <td>Movie</td>\n      <td>Ryan Coogler</td>\n      <td>Danai Gurira</td>\n      <td>Black Panther</td>\n      <td>2018</td>\n      <td>T'Challa, the superpowered new leader of the h...</td>\n      <td>CAST IN A MOTION PICTURE</td>\n      <td>True</td>\n    </tr>\n    <tr>\n      <th>3</th>\n      <td>283</td>\n      <td>80201906</td>\n      <td>Movie</td>\n      <td>Ryan Coogler</td>\n      <td>Martin Freeman</td>\n      <td>Black Panther</td>\n      <td>2018</td>\n      <td>T'Challa, the superpowered new leader of the h...</td>\n      <td>CAST IN A MOTION PICTURE</td>\n      <td>True</td>\n    </tr>\n    <tr>\n      <th>4</th>\n      <td>284</td>\n      <td>80201906</td>\n      <td>Movie</td>\n      <td>Ryan Coogler</td>\n      <td>Daniel Kaluuya</td>\n      <td>Black Panther</td>\n      <td>2018</td>\n      <td>T'Challa, the superpowered new leader of the h...</td>\n      <td>CAST IN A MOTION PICTURE</td>\n      <td>True</td>\n    </tr>\n    <tr>\n      <th>...</th>\n      <td>...</td>\n      <td>...</td>\n      <td>...</td>\n      <td>...</td>\n      <td>...</td>\n      <td>...</td>\n      <td>...</td>\n      <td>...</td>\n      <td>...</td>\n      <td>...</td>\n    </tr>\n    <tr>\n      <th>274</th>\n      <td>28777</td>\n      <td>607931</td>\n      <td>Movie</td>\n      <td>Jocelyn Moorhouse</td>\n      <td>Kate Nelligan</td>\n      <td>How To Make An American Quilt</td>\n      <td>1995</td>\n      <td>A conflicted young woman spends the summer wit...</td>\n      <td>CAST IN A MOTION PICTURE</td>\n      <td>False</td>\n    </tr>\n    <tr>\n      <th>275</th>\n      <td>28778</td>\n      <td>607931</td>\n      <td>Movie</td>\n      <td>Jocelyn Moorhouse</td>\n      <td>Alfre Woodard</td>\n      <td>How To Make An American Quilt</td>\n      <td>1995</td>\n      <td>A conflicted young woman spends the summer wit...</td>\n      <td>CAST IN A MOTION PICTURE</td>\n      <td>False</td>\n    </tr>\n    <tr>\n      <th>276</th>\n      <td>28784</td>\n      <td>607931</td>\n      <td>Movie</td>\n      <td>Jocelyn Moorhouse</td>\n      <td>Maya Angelou</td>\n      <td>How To Make An American Quilt</td>\n      <td>1995</td>\n      <td>A conflicted young woman spends the summer wit...</td>\n      <td>CAST IN A MOTION PICTURE</td>\n      <td>False</td>\n    </tr>\n    <tr>\n      <th>277</th>\n      <td>28788</td>\n      <td>607931</td>\n      <td>Movie</td>\n      <td>Jocelyn Moorhouse</td>\n      <td>Jean Simmons</td>\n      <td>How To Make An American Quilt</td>\n      <td>1995</td>\n      <td>A conflicted young woman spends the summer wit...</td>\n      <td>CAST IN A MOTION PICTURE</td>\n      <td>False</td>\n    </tr>\n    <tr>\n      <th>278</th>\n      <td>28791</td>\n      <td>607931</td>\n      <td>Movie</td>\n      <td>Jocelyn Moorhouse</td>\n      <td>Samantha Mathis</td>\n      <td>How To Make An American Quilt</td>\n      <td>1995</td>\n      <td>A conflicted young woman spends the summer wit...</td>\n      <td>CAST IN A MOTION PICTURE</td>\n      <td>False</td>\n    </tr>\n  </tbody>\n</table>\n<p>279 rows × 10 columns</p>\n</div>"
     },
     "metadata": {},
     "execution_count": 2
    }
   ],
   "source": [
    "data = os.path.join('Resources','cleaned_merged','cleaned_netflix_sag_data.csv')\n",
    "data1 = pd.read_csv(data)\n",
    "data_df = pd.DataFrame(data1).drop(columns='Unnamed: 0')\n",
    "data_df"
   ]
  },
  {
   "cell_type": "code",
   "execution_count": 3,
   "metadata": {},
   "outputs": [],
   "source": [
    "actors = data_df[['id','full_name']].set_index('id').drop_duplicates().copy()\n",
    "\n",
    "titles = data_df[['show_id','title','type','release_year','description']].set_index('show_id').drop_duplicates().copy()\n",
    "\n",
    "act_ttl = data_df[['id','show_id']].set_index('id').drop_duplicates().copy()\n",
    "\n",
    "directors = data_df[['director']].rename(columns={'director':'directors_names'}).drop_duplicates().copy()\n",
    "directors['director_id'] = range(len(directors['directors_names']))\n",
    "\n",
    "dir_ttl = data_df[['show_id']].drop_duplicates().copy()\n",
    "dir_ttl['director_id'] = directors['director_id']\n",
    "dir_ttl = dir_ttl.dropna()\n",
    "dir_ttl['director_id'] = [int(value) for value in directors['director_id']]\n",
    "dir_ttl = dir_ttl.set_index('show_id')\n",
    "\n",
    "awards = data_df[['category','won']].copy()\n",
    "awards['award_id'] = range(len(awards['won']))\n",
    "\n",
    "\n",
    "act_award = data_df[['id']].copy()\n",
    "act_award['award_id'] = awards['award_id']\n",
    "act_award = act_award.set_index('id')\n",
    "\n",
    "dir_award = directors[['director_id']].copy()\n",
    "dir_award['award_id'] = awards['award_id']\n",
    "dir_award = dir_award.set_index('director_id')\n",
    "\n",
    "awards = awards.set_index('award_id')\n",
    "directors = directors.set_index('director_id')"
   ]
  },
  {
   "cell_type": "code",
   "execution_count": 4,
   "metadata": {},
   "outputs": [],
   "source": [
    "# combine similar results\n",
    "\n",
    "awards['category'] = awards['category'].replace(\n",
    "    {'MALE SUPPORT':'MALE SUPPORTING ROLE',\n",
    "    ' MALE ACTOR IN A SUPPORTING ROLE':'MALE SUPPORTING ROLE',\n",
    "    'FEMALE SUPPORT':'FEMALE SUPPORTING ROLE',\n",
    "    ' FEMALE ACTOR IN A SUPPORTING ROLE':'FEMALE SUPPORTING ROLE',\n",
    "    'FEMALE LEAD':'FEMALE LEAD ROLE',\n",
    "    'FEMALE ACTOR IN A LEADING ROLE':'FEMALE LEAD ROLE',\n",
    "    ' FEMALE ACTOR IN A LEADING ROLE':'FEMALE LEAD ROLE',\n",
    "    'FEMALE LEAD IN A MOTION PICTURE':'FEMALE LEAD ROLE',\n",
    "    'MALE LEAD':'MALE LEAD ROLE',\n",
    "    ' MALE ACTOR IN A LEADING ROLE':'MALE LEAD ROLE',\n",
    "    'MALE ACTOR IN A LEADING ROLE':'MALE LEAD ROLE'})"
   ]
  },
  {
   "cell_type": "code",
   "execution_count": 5,
   "metadata": {},
   "outputs": [
    {
     "output_type": "execute_result",
     "data": {
      "text/plain": "CAST IN A MOTION PICTURE       193\nMALE SUPPORTING ROLE            28\nFEMALE SUPPORTING ROLE          20\nFEMALE LEAD ROLE                19\nMALE LEAD ROLE                  18\nMALE TV MOVIE OR MINISERIES      1\nName: category, dtype: int64"
     },
     "metadata": {},
     "execution_count": 5
    }
   ],
   "source": [
    "awards['category'].value_counts()"
   ]
  },
  {
   "cell_type": "code",
   "execution_count": 6,
   "metadata": {},
   "outputs": [],
   "source": [
    "conn = \"postgres:postgres@localhost:5432/netflix_sag_db\"\n",
    "engine = create_engine(f'postgresql://{conn}')"
   ]
  },
  {
   "cell_type": "code",
   "execution_count": 7,
   "metadata": {},
   "outputs": [
    {
     "output_type": "execute_result",
     "data": {
      "text/plain": "['actors',\n 'titles',\n 'act_ttl',\n 'directors',\n 'dir_ttl',\n 'awards',\n 'act_award',\n 'dir_award']"
     },
     "metadata": {},
     "execution_count": 7
    }
   ],
   "source": [
    "engine.table_names()"
   ]
  },
  {
   "cell_type": "code",
   "execution_count": 8,
   "metadata": {},
   "outputs": [],
   "source": [
    "actors.to_sql(name='actors', con=engine, if_exists='append', index=True)"
   ]
  },
  {
   "cell_type": "code",
   "execution_count": 9,
   "metadata": {},
   "outputs": [],
   "source": [
    "titles.to_sql(name='titles', con=engine, if_exists='append', index=True)"
   ]
  },
  {
   "cell_type": "code",
   "execution_count": 10,
   "metadata": {},
   "outputs": [],
   "source": [
    "act_ttl.to_sql(name='act_ttl', con=engine, if_exists='append', index=True)"
   ]
  },
  {
   "cell_type": "code",
   "execution_count": 11,
   "metadata": {},
   "outputs": [],
   "source": [
    "directors.to_sql(name='directors', con=engine, if_exists='append', index=True)"
   ]
  },
  {
   "cell_type": "code",
   "execution_count": 12,
   "metadata": {},
   "outputs": [],
   "source": [
    "dir_ttl.to_sql(name='dir_ttl', con=engine, if_exists='append', index=True)"
   ]
  },
  {
   "cell_type": "code",
   "execution_count": 13,
   "metadata": {},
   "outputs": [],
   "source": [
    "awards.to_sql(name='awards', con=engine, if_exists='append', index=True)"
   ]
  },
  {
   "cell_type": "code",
   "execution_count": 14,
   "metadata": {},
   "outputs": [],
   "source": [
    "act_award.to_sql(name='act_award', con=engine, if_exists='append', index=True)"
   ]
  },
  {
   "cell_type": "code",
   "execution_count": 15,
   "metadata": {},
   "outputs": [],
   "source": [
    "dir_award.to_sql(name='dir_award', con=engine, if_exists='append', index=True)"
   ]
  },
  {
   "cell_type": "code",
   "execution_count": null,
   "metadata": {},
   "outputs": [],
   "source": []
  }
 ]
}