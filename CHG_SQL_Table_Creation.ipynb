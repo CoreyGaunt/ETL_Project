{
 "metadata": {
  "language_info": {
   "codemirror_mode": {
    "name": "ipython",
    "version": 3
   },
   "file_extension": ".py",
   "mimetype": "text/x-python",
   "name": "python",
   "nbconvert_exporter": "python",
   "pygments_lexer": "ipython3",
   "version": "3.7.6-final"
  },
  "orig_nbformat": 2,
  "kernelspec": {
   "name": "python_defaultSpec_1600542471879",
   "display_name": "Python 3.7.6 64-bit ('base': conda)"
  }
 },
 "nbformat": 4,
 "nbformat_minor": 2,
 "cells": [
  {
   "cell_type": "code",
   "execution_count": 1,
   "metadata": {},
   "outputs": [],
   "source": [
    "import pandas as pd\n",
    "import os, csv\n",
    "import numpy as np\n",
    "from sqlalchemy import create_engine\n"
   ]
  },
  {
   "cell_type": "code",
   "execution_count": 8,
   "metadata": {},
   "outputs": [
    {
     "output_type": "execute_result",
     "data": {
      "text/plain": "        id   show_id   type           director          full_name  \\\n0      279  80201906  Movie       Ryan Coogler   Chadwick Boseman   \n1      280  80201906  Movie       Ryan Coogler  Michael B. Jordan   \n2      282  80201906  Movie       Ryan Coogler       Danai Gurira   \n3      283  80201906  Movie       Ryan Coogler     Martin Freeman   \n4      284  80201906  Movie       Ryan Coogler     Daniel Kaluuya   \n..     ...       ...    ...                ...                ...   \n274  28777    607931  Movie  Jocelyn Moorhouse      Kate Nelligan   \n275  28778    607931  Movie  Jocelyn Moorhouse      Alfre Woodard   \n276  28784    607931  Movie  Jocelyn Moorhouse       Maya Angelou   \n277  28788    607931  Movie  Jocelyn Moorhouse       Jean Simmons   \n278  28791    607931  Movie  Jocelyn Moorhouse    Samantha Mathis   \n\n                             title  release_year  \\\n0                    Black Panther          2018   \n1                    Black Panther          2018   \n2                    Black Panther          2018   \n3                    Black Panther          2018   \n4                    Black Panther          2018   \n..                             ...           ...   \n274  How To Make An American Quilt          1995   \n275  How To Make An American Quilt          1995   \n276  How To Make An American Quilt          1995   \n277  How To Make An American Quilt          1995   \n278  How To Make An American Quilt          1995   \n\n                                           description  \\\n0    T'Challa, the superpowered new leader of the h...   \n1    T'Challa, the superpowered new leader of the h...   \n2    T'Challa, the superpowered new leader of the h...   \n3    T'Challa, the superpowered new leader of the h...   \n4    T'Challa, the superpowered new leader of the h...   \n..                                                 ...   \n274  A conflicted young woman spends the summer wit...   \n275  A conflicted young woman spends the summer wit...   \n276  A conflicted young woman spends the summer wit...   \n277  A conflicted young woman spends the summer wit...   \n278  A conflicted young woman spends the summer wit...   \n\n                     category    won  \n0    CAST IN A MOTION PICTURE   True  \n1    CAST IN A MOTION PICTURE   True  \n2    CAST IN A MOTION PICTURE   True  \n3    CAST IN A MOTION PICTURE   True  \n4    CAST IN A MOTION PICTURE   True  \n..                        ...    ...  \n274  CAST IN A MOTION PICTURE  False  \n275  CAST IN A MOTION PICTURE  False  \n276  CAST IN A MOTION PICTURE  False  \n277  CAST IN A MOTION PICTURE  False  \n278  CAST IN A MOTION PICTURE  False  \n\n[279 rows x 10 columns]",
      "text/html": "<div>\n<style scoped>\n    .dataframe tbody tr th:only-of-type {\n        vertical-align: middle;\n    }\n\n    .dataframe tbody tr th {\n        vertical-align: top;\n    }\n\n    .dataframe thead th {\n        text-align: right;\n    }\n</style>\n<table border=\"1\" class=\"dataframe\">\n  <thead>\n    <tr style=\"text-align: right;\">\n      <th></th>\n      <th>id</th>\n      <th>show_id</th>\n      <th>type</th>\n      <th>director</th>\n      <th>full_name</th>\n      <th>title</th>\n      <th>release_year</th>\n      <th>description</th>\n      <th>category</th>\n      <th>won</th>\n    </tr>\n  </thead>\n  <tbody>\n    <tr>\n      <th>0</th>\n      <td>279</td>\n      <td>80201906</td>\n      <td>Movie</td>\n      <td>Ryan Coogler</td>\n      <td>Chadwick Boseman</td>\n      <td>Black Panther</td>\n      <td>2018</td>\n      <td>T'Challa, the superpowered new leader of the h...</td>\n      <td>CAST IN A MOTION PICTURE</td>\n      <td>True</td>\n    </tr>\n    <tr>\n      <th>1</th>\n      <td>280</td>\n      <td>80201906</td>\n      <td>Movie</td>\n      <td>Ryan Coogler</td>\n      <td>Michael B. Jordan</td>\n      <td>Black Panther</td>\n      <td>2018</td>\n      <td>T'Challa, the superpowered new leader of the h...</td>\n      <td>CAST IN A MOTION PICTURE</td>\n      <td>True</td>\n    </tr>\n    <tr>\n      <th>2</th>\n      <td>282</td>\n      <td>80201906</td>\n      <td>Movie</td>\n      <td>Ryan Coogler</td>\n      <td>Danai Gurira</td>\n      <td>Black Panther</td>\n      <td>2018</td>\n      <td>T'Challa, the superpowered new leader of the h...</td>\n      <td>CAST IN A MOTION PICTURE</td>\n      <td>True</td>\n    </tr>\n    <tr>\n      <th>3</th>\n      <td>283</td>\n      <td>80201906</td>\n      <td>Movie</td>\n      <td>Ryan Coogler</td>\n      <td>Martin Freeman</td>\n      <td>Black Panther</td>\n      <td>2018</td>\n      <td>T'Challa, the superpowered new leader of the h...</td>\n      <td>CAST IN A MOTION PICTURE</td>\n      <td>True</td>\n    </tr>\n    <tr>\n      <th>4</th>\n      <td>284</td>\n      <td>80201906</td>\n      <td>Movie</td>\n      <td>Ryan Coogler</td>\n      <td>Daniel Kaluuya</td>\n      <td>Black Panther</td>\n      <td>2018</td>\n      <td>T'Challa, the superpowered new leader of the h...</td>\n      <td>CAST IN A MOTION PICTURE</td>\n      <td>True</td>\n    </tr>\n    <tr>\n      <th>...</th>\n      <td>...</td>\n      <td>...</td>\n      <td>...</td>\n      <td>...</td>\n      <td>...</td>\n      <td>...</td>\n      <td>...</td>\n      <td>...</td>\n      <td>...</td>\n      <td>...</td>\n    </tr>\n    <tr>\n      <th>274</th>\n      <td>28777</td>\n      <td>607931</td>\n      <td>Movie</td>\n      <td>Jocelyn Moorhouse</td>\n      <td>Kate Nelligan</td>\n      <td>How To Make An American Quilt</td>\n      <td>1995</td>\n      <td>A conflicted young woman spends the summer wit...</td>\n      <td>CAST IN A MOTION PICTURE</td>\n      <td>False</td>\n    </tr>\n    <tr>\n      <th>275</th>\n      <td>28778</td>\n      <td>607931</td>\n      <td>Movie</td>\n      <td>Jocelyn Moorhouse</td>\n      <td>Alfre Woodard</td>\n      <td>How To Make An American Quilt</td>\n      <td>1995</td>\n      <td>A conflicted young woman spends the summer wit...</td>\n      <td>CAST IN A MOTION PICTURE</td>\n      <td>False</td>\n    </tr>\n    <tr>\n      <th>276</th>\n      <td>28784</td>\n      <td>607931</td>\n      <td>Movie</td>\n      <td>Jocelyn Moorhouse</td>\n      <td>Maya Angelou</td>\n      <td>How To Make An American Quilt</td>\n      <td>1995</td>\n      <td>A conflicted young woman spends the summer wit...</td>\n      <td>CAST IN A MOTION PICTURE</td>\n      <td>False</td>\n    </tr>\n    <tr>\n      <th>277</th>\n      <td>28788</td>\n      <td>607931</td>\n      <td>Movie</td>\n      <td>Jocelyn Moorhouse</td>\n      <td>Jean Simmons</td>\n      <td>How To Make An American Quilt</td>\n      <td>1995</td>\n      <td>A conflicted young woman spends the summer wit...</td>\n      <td>CAST IN A MOTION PICTURE</td>\n      <td>False</td>\n    </tr>\n    <tr>\n      <th>278</th>\n      <td>28791</td>\n      <td>607931</td>\n      <td>Movie</td>\n      <td>Jocelyn Moorhouse</td>\n      <td>Samantha Mathis</td>\n      <td>How To Make An American Quilt</td>\n      <td>1995</td>\n      <td>A conflicted young woman spends the summer wit...</td>\n      <td>CAST IN A MOTION PICTURE</td>\n      <td>False</td>\n    </tr>\n  </tbody>\n</table>\n<p>279 rows × 10 columns</p>\n</div>"
     },
     "metadata": {},
     "execution_count": 8
    }
   ],
   "source": [
    "data = os.path.join('Resources','cleaned_merged','cleaned_netflix_sag_data.csv')\n",
    "data1 = pd.read_csv(data)\n",
    "data_df = pd.DataFrame(data1).drop(columns='Unnamed: 0')\n",
    "data_df"
   ]
  },
  {
   "cell_type": "code",
   "execution_count": 105,
   "metadata": {},
   "outputs": [],
   "source": [
    "actors = data_df[['id','full_name']].set_index('id')\n",
    "\n",
    "titles = data_df[['show_id','title','type','release_year','description']].set_index('show_id').drop_duplicates()\n",
    "\n",
    "act_ttl = data_df[['id','show_id']].set_index('id')\n",
    "\n",
    "directors = data_df[['director']].rename(columns={'director':'directors_names'}).drop_duplicates()\n",
    "directors['director_id'] = range(len(directors['directors_names']))\n",
    "\n",
    "dir_ttl = data_df[['show_id']].drop_duplicates()\n",
    "dir_ttl['director_id'] = directors['director_id']\n",
    "dir_ttl = dir_ttl.dropna()\n",
    "dir_ttl['director_id'] = [int(value) for value in directors['director_id']]\n",
    "dir_ttl = dir_ttl.set_index('show_id')\n",
    "\n",
    "awards = data_df[['category','won']]\n",
    "awards['award_id'] = range(len(awards['won']))\n",
    "\n",
    "\n",
    "act_award = data_df[['id']]\n",
    "act_award['award_id'] = awards['award_id']\n",
    "act_award = act_award.set_index('id')\n",
    "\n",
    "dir_award = directors[['director_id']]\n",
    "dir_award['award_id'] = awards['award_id']\n",
    "dir_award = dir_award.set_index('director_id')\n",
    "\n",
    "awards = awards.set_index('award_id')"
   ]
  },
  {
   "cell_type": "code",
   "execution_count": 106,
   "metadata": {},
   "outputs": [
    {
     "output_type": "execute_result",
     "data": {
      "text/plain": "             award_id\ndirector_id          \n0                   0\n1                  10\n2                  18\n3                  19\n4                  20\n5                  25\n6                  37\n7                  39\n8                  46\n9                  47\n10                 70\n11                 71\n12                 80\n13                 82\n14                 91\n15                 92\n16                100\n17                101\n18                102\n19                104\n20                116\n21                117\n22                118\n23                129\n24                132\n25                133\n26                135\n27                143\n28                144\n29                163\n30                166\n31                167\n32                179\n33                197\n34                199\n35                206\n36                220\n37                231\n38                237\n39                240\n40                243\n41                251\n42                270\n43                271",
      "text/html": "<div>\n<style scoped>\n    .dataframe tbody tr th:only-of-type {\n        vertical-align: middle;\n    }\n\n    .dataframe tbody tr th {\n        vertical-align: top;\n    }\n\n    .dataframe thead th {\n        text-align: right;\n    }\n</style>\n<table border=\"1\" class=\"dataframe\">\n  <thead>\n    <tr style=\"text-align: right;\">\n      <th></th>\n      <th>award_id</th>\n    </tr>\n    <tr>\n      <th>director_id</th>\n      <th></th>\n    </tr>\n  </thead>\n  <tbody>\n    <tr>\n      <th>0</th>\n      <td>0</td>\n    </tr>\n    <tr>\n      <th>1</th>\n      <td>10</td>\n    </tr>\n    <tr>\n      <th>2</th>\n      <td>18</td>\n    </tr>\n    <tr>\n      <th>3</th>\n      <td>19</td>\n    </tr>\n    <tr>\n      <th>4</th>\n      <td>20</td>\n    </tr>\n    <tr>\n      <th>5</th>\n      <td>25</td>\n    </tr>\n    <tr>\n      <th>6</th>\n      <td>37</td>\n    </tr>\n    <tr>\n      <th>7</th>\n      <td>39</td>\n    </tr>\n    <tr>\n      <th>8</th>\n      <td>46</td>\n    </tr>\n    <tr>\n      <th>9</th>\n      <td>47</td>\n    </tr>\n    <tr>\n      <th>10</th>\n      <td>70</td>\n    </tr>\n    <tr>\n      <th>11</th>\n      <td>71</td>\n    </tr>\n    <tr>\n      <th>12</th>\n      <td>80</td>\n    </tr>\n    <tr>\n      <th>13</th>\n      <td>82</td>\n    </tr>\n    <tr>\n      <th>14</th>\n      <td>91</td>\n    </tr>\n    <tr>\n      <th>15</th>\n      <td>92</td>\n    </tr>\n    <tr>\n      <th>16</th>\n      <td>100</td>\n    </tr>\n    <tr>\n      <th>17</th>\n      <td>101</td>\n    </tr>\n    <tr>\n      <th>18</th>\n      <td>102</td>\n    </tr>\n    <tr>\n      <th>19</th>\n      <td>104</td>\n    </tr>\n    <tr>\n      <th>20</th>\n      <td>116</td>\n    </tr>\n    <tr>\n      <th>21</th>\n      <td>117</td>\n    </tr>\n    <tr>\n      <th>22</th>\n      <td>118</td>\n    </tr>\n    <tr>\n      <th>23</th>\n      <td>129</td>\n    </tr>\n    <tr>\n      <th>24</th>\n      <td>132</td>\n    </tr>\n    <tr>\n      <th>25</th>\n      <td>133</td>\n    </tr>\n    <tr>\n      <th>26</th>\n      <td>135</td>\n    </tr>\n    <tr>\n      <th>27</th>\n      <td>143</td>\n    </tr>\n    <tr>\n      <th>28</th>\n      <td>144</td>\n    </tr>\n    <tr>\n      <th>29</th>\n      <td>163</td>\n    </tr>\n    <tr>\n      <th>30</th>\n      <td>166</td>\n    </tr>\n    <tr>\n      <th>31</th>\n      <td>167</td>\n    </tr>\n    <tr>\n      <th>32</th>\n      <td>179</td>\n    </tr>\n    <tr>\n      <th>33</th>\n      <td>197</td>\n    </tr>\n    <tr>\n      <th>34</th>\n      <td>199</td>\n    </tr>\n    <tr>\n      <th>35</th>\n      <td>206</td>\n    </tr>\n    <tr>\n      <th>36</th>\n      <td>220</td>\n    </tr>\n    <tr>\n      <th>37</th>\n      <td>231</td>\n    </tr>\n    <tr>\n      <th>38</th>\n      <td>237</td>\n    </tr>\n    <tr>\n      <th>39</th>\n      <td>240</td>\n    </tr>\n    <tr>\n      <th>40</th>\n      <td>243</td>\n    </tr>\n    <tr>\n      <th>41</th>\n      <td>251</td>\n    </tr>\n    <tr>\n      <th>42</th>\n      <td>270</td>\n    </tr>\n    <tr>\n      <th>43</th>\n      <td>271</td>\n    </tr>\n  </tbody>\n</table>\n</div>"
     },
     "metadata": {},
     "execution_count": 106
    }
   ],
   "source": []
  },
  {
   "cell_type": "code",
   "execution_count": null,
   "metadata": {},
   "outputs": [],
   "source": []
  }
 ]
}