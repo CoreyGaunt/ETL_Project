{
 "metadata": {
  "language_info": {
   "codemirror_mode": {
    "name": "ipython",
    "version": 3
   },
   "file_extension": ".py",
   "mimetype": "text/x-python",
   "name": "python",
   "nbconvert_exporter": "python",
   "pygments_lexer": "ipython3",
   "version": "3.7.6-final"
  },
  "orig_nbformat": 2,
  "kernelspec": {
   "name": "python_defaultSpec_1600535593420",
   "display_name": "Python 3.7.6 64-bit ('ProgramData': virtualenv)"
  }
 },
 "nbformat": 4,
 "nbformat_minor": 2,
 "cells": [
  {
   "cell_type": "code",
   "execution_count": 1,
   "metadata": {},
   "outputs": [],
   "source": [
    "import pandas as pd\n",
    "import os, csv\n",
    "import numpy as np\n",
    "from sqlalchemy import create_engine\n",
    "from itertools import chain"
   ]
  },
  {
   "cell_type": "code",
   "execution_count": 2,
   "metadata": {},
   "outputs": [],
   "source": [
    "def chainer(s):\n",
    "    return list(chain.from_iterable(s.str.split(', ')))"
   ]
  },
  {
   "cell_type": "code",
   "execution_count": null,
   "metadata": {},
   "outputs": [],
   "source": [
    "# flat = pd.DataFrame({\n",
    "#     'Manufacturer':np.repeat(df1['Manufacturer'], lens),\n",
    "#     'Series':np.repeat(df1['Series'], lens),\n",
    "#     'Color':np.repeat(df1['Color'], lens),\n",
    "#     'Flat RCCP':chainer(df1['Flat RCCP'])\n",
    "# })"
   ]
  },
  {
   "cell_type": "code",
   "execution_count": 3,
   "metadata": {},
   "outputs": [],
   "source": [
    "netflix_data = os.path.join('Resources','netflix','netflix_titles.csv')\n",
    "netflix = pd.read_csv(netflix_data)\n",
    "netflix_df = pd.DataFrame(netflix)\n",
    "netflix_df = netflix_df.dropna()"
   ]
  },
  {
   "cell_type": "code",
   "execution_count": 14,
   "metadata": {},
   "outputs": [],
   "source": [
    "cleaned_stage1_netflix = netflix_df[['show_id','type','title','director','cast','release_year','description']].copy()\n",
    "\n",
    "lens = cleaned_stage1_netflix['cast'].str.split(', ').map(len)\n",
    "\n",
    "cleaned_stage2_netflix = pd.DataFrame({\n",
    "    'show_id':np.repeat(cleaned_stage1_netflix['show_id'],lens),\n",
    "    'type':np.repeat(cleaned_stage1_netflix['type'],lens),\n",
    "    'title':np.repeat(cleaned_stage1_netflix['title'],lens),\n",
    "    'director':np.repeat(cleaned_stage1_netflix['director'],lens),\n",
    "    'full_name':chainer(cleaned_stage1_netflix['cast']),\n",
    "    'release_year':np.repeat(cleaned_stage1_netflix['release_year'],lens),\n",
    "    'description':np.repeat(cleaned_stage1_netflix['description'],lens)\n",
    "})"
   ]
  },
  {
   "cell_type": "code",
   "execution_count": 25,
   "metadata": {},
   "outputs": [],
   "source": [
    "cleaned_stage3_netflix = cleaned_stage2_netflix #[cleaned_stage2_netflix['release_year'] == 2019]\n",
    "cleaned_stage3_netflix['title'] = cleaned_stage3_netflix['title'].str.strip().str.title()\n",
    "cleaned_stage3_netflix['full_name'] = cleaned_stage3_netflix['full_name'].str.strip().str.title()\n",
    "ids = []\n",
    "\n",
    "for x in range(len(cleaned_stage3_netflix['show_id'])):\n",
    "    ids.append(x)\n",
    "\n",
    "cleaned_stage3_netflix.insert(0,'id',ids)\n",
    "\n",
    "final_netflix_df = cleaned_stage3_netflix"
   ]
  },
  {
   "cell_type": "code",
   "execution_count": 26,
   "metadata": {},
   "outputs": [
    {
     "output_type": "execute_result",
     "data": {
      "text/plain": "         id   show_id     type                                    title  \\\n0         0  81145628    Movie  Norm Of The North: King Sized Adventure   \n0         1  81145628    Movie  Norm Of The North: King Sized Adventure   \n0         2  81145628    Movie  Norm Of The North: King Sized Adventure   \n0         3  81145628    Movie  Norm Of The North: King Sized Adventure   \n0         4  81145628    Movie  Norm Of The North: King Sized Adventure   \n...     ...       ...      ...                                      ...   \n6213  29384  80126599  TV Show                         Leyla And Mecnun   \n6213  29385  80126599  TV Show                         Leyla And Mecnun   \n6213  29386  80126599  TV Show                         Leyla And Mecnun   \n6213  29387  80126599  TV Show                         Leyla And Mecnun   \n6213  29388  80126599  TV Show                         Leyla And Mecnun   \n\n                      director         full_name  release_year  \\\n0     Richard Finn, Tim Maltby     Alan Marriott          2019   \n0     Richard Finn, Tim Maltby       Andrew Toth          2019   \n0     Richard Finn, Tim Maltby      Brian Dobson          2019   \n0     Richard Finn, Tim Maltby       Cole Howard          2019   \n0     Richard Finn, Tim Maltby  Jennifer Cameron          2019   \n...                        ...               ...           ...   \n6213                 Onur Ünlü    Cengiz Bozkurt          2014   \n6213                 Onur Ünlü      Osman Sonant          2014   \n6213                 Onur Ünlü      Köksal Engür          2014   \n6213                 Onur Ünlü        Ege Tanman          2014   \n6213                 Onur Ünlü    İştar Gökseven          2014   \n\n                                            description  \n0     Before planning an awesome wedding for his gra...  \n0     Before planning an awesome wedding for his gra...  \n0     Before planning an awesome wedding for his gra...  \n0     Before planning an awesome wedding for his gra...  \n0     Before planning an awesome wedding for his gra...  \n...                                                 ...  \n6213  Destiny brings Mecnun and Leyla together as ne...  \n6213  Destiny brings Mecnun and Leyla together as ne...  \n6213  Destiny brings Mecnun and Leyla together as ne...  \n6213  Destiny brings Mecnun and Leyla together as ne...  \n6213  Destiny brings Mecnun and Leyla together as ne...  \n\n[29389 rows x 8 columns]",
      "text/html": "<div>\n<style scoped>\n    .dataframe tbody tr th:only-of-type {\n        vertical-align: middle;\n    }\n\n    .dataframe tbody tr th {\n        vertical-align: top;\n    }\n\n    .dataframe thead th {\n        text-align: right;\n    }\n</style>\n<table border=\"1\" class=\"dataframe\">\n  <thead>\n    <tr style=\"text-align: right;\">\n      <th></th>\n      <th>id</th>\n      <th>show_id</th>\n      <th>type</th>\n      <th>title</th>\n      <th>director</th>\n      <th>full_name</th>\n      <th>release_year</th>\n      <th>description</th>\n    </tr>\n  </thead>\n  <tbody>\n    <tr>\n      <th>0</th>\n      <td>0</td>\n      <td>81145628</td>\n      <td>Movie</td>\n      <td>Norm Of The North: King Sized Adventure</td>\n      <td>Richard Finn, Tim Maltby</td>\n      <td>Alan Marriott</td>\n      <td>2019</td>\n      <td>Before planning an awesome wedding for his gra...</td>\n    </tr>\n    <tr>\n      <th>0</th>\n      <td>1</td>\n      <td>81145628</td>\n      <td>Movie</td>\n      <td>Norm Of The North: King Sized Adventure</td>\n      <td>Richard Finn, Tim Maltby</td>\n      <td>Andrew Toth</td>\n      <td>2019</td>\n      <td>Before planning an awesome wedding for his gra...</td>\n    </tr>\n    <tr>\n      <th>0</th>\n      <td>2</td>\n      <td>81145628</td>\n      <td>Movie</td>\n      <td>Norm Of The North: King Sized Adventure</td>\n      <td>Richard Finn, Tim Maltby</td>\n      <td>Brian Dobson</td>\n      <td>2019</td>\n      <td>Before planning an awesome wedding for his gra...</td>\n    </tr>\n    <tr>\n      <th>0</th>\n      <td>3</td>\n      <td>81145628</td>\n      <td>Movie</td>\n      <td>Norm Of The North: King Sized Adventure</td>\n      <td>Richard Finn, Tim Maltby</td>\n      <td>Cole Howard</td>\n      <td>2019</td>\n      <td>Before planning an awesome wedding for his gra...</td>\n    </tr>\n    <tr>\n      <th>0</th>\n      <td>4</td>\n      <td>81145628</td>\n      <td>Movie</td>\n      <td>Norm Of The North: King Sized Adventure</td>\n      <td>Richard Finn, Tim Maltby</td>\n      <td>Jennifer Cameron</td>\n      <td>2019</td>\n      <td>Before planning an awesome wedding for his gra...</td>\n    </tr>\n    <tr>\n      <th>...</th>\n      <td>...</td>\n      <td>...</td>\n      <td>...</td>\n      <td>...</td>\n      <td>...</td>\n      <td>...</td>\n      <td>...</td>\n      <td>...</td>\n    </tr>\n    <tr>\n      <th>6213</th>\n      <td>29384</td>\n      <td>80126599</td>\n      <td>TV Show</td>\n      <td>Leyla And Mecnun</td>\n      <td>Onur Ünlü</td>\n      <td>Cengiz Bozkurt</td>\n      <td>2014</td>\n      <td>Destiny brings Mecnun and Leyla together as ne...</td>\n    </tr>\n    <tr>\n      <th>6213</th>\n      <td>29385</td>\n      <td>80126599</td>\n      <td>TV Show</td>\n      <td>Leyla And Mecnun</td>\n      <td>Onur Ünlü</td>\n      <td>Osman Sonant</td>\n      <td>2014</td>\n      <td>Destiny brings Mecnun and Leyla together as ne...</td>\n    </tr>\n    <tr>\n      <th>6213</th>\n      <td>29386</td>\n      <td>80126599</td>\n      <td>TV Show</td>\n      <td>Leyla And Mecnun</td>\n      <td>Onur Ünlü</td>\n      <td>Köksal Engür</td>\n      <td>2014</td>\n      <td>Destiny brings Mecnun and Leyla together as ne...</td>\n    </tr>\n    <tr>\n      <th>6213</th>\n      <td>29387</td>\n      <td>80126599</td>\n      <td>TV Show</td>\n      <td>Leyla And Mecnun</td>\n      <td>Onur Ünlü</td>\n      <td>Ege Tanman</td>\n      <td>2014</td>\n      <td>Destiny brings Mecnun and Leyla together as ne...</td>\n    </tr>\n    <tr>\n      <th>6213</th>\n      <td>29388</td>\n      <td>80126599</td>\n      <td>TV Show</td>\n      <td>Leyla And Mecnun</td>\n      <td>Onur Ünlü</td>\n      <td>İştar Gökseven</td>\n      <td>2014</td>\n      <td>Destiny brings Mecnun and Leyla together as ne...</td>\n    </tr>\n  </tbody>\n</table>\n<p>29389 rows × 8 columns</p>\n</div>"
     },
     "metadata": {},
     "execution_count": 26
    }
   ],
   "source": [
    "final_netflix_df\n"
   ]
  },
  {
   "cell_type": "code",
   "execution_count": 11,
   "metadata": {},
   "outputs": [],
   "source": [
    "sag_data = os.path.join('Resources','SAG','screen_actor_guild_awards.csv')\n",
    "sag = pd.read_csv(sag_data)\n",
    "sag_df = pd.DataFrame(sag)\n",
    "\n",
    "sag_df\n",
    "years = []\n",
    "\n",
    "for x in range(len(sag_df['year'])-1):\n",
    "    years.append(sag_df['year'].str.split(' ')[x][0])"
   ]
  },
  {
   "cell_type": "code",
   "execution_count": 27,
   "metadata": {},
   "outputs": [
    {
     "output_type": "execute_result",
     "data": {
      "text/plain": "    year                            category             full_name  \\\nid                                                                   \n5   2020      FEMALE ACTOR IN A LEADING ROLE         Cynthia Erivo   \n6   2020      FEMALE ACTOR IN A LEADING ROLE    Scarlett Johansson   \n7   2020      FEMALE ACTOR IN A LEADING ROLE        Lupita Nyong'O   \n8   2020      FEMALE ACTOR IN A LEADING ROLE       Charlize Theron   \n9   2020      FEMALE ACTOR IN A LEADING ROLE       Renée Zellweger   \n10  2020        MALE ACTOR IN A LEADING ROLE        Christian Bale   \n11  2020        MALE ACTOR IN A LEADING ROLE     Leonardo Dicaprio   \n12  2020        MALE ACTOR IN A LEADING ROLE           Adam Driver   \n13  2020        MALE ACTOR IN A LEADING ROLE         Taron Egerton   \n14  2020        MALE ACTOR IN A LEADING ROLE       Joaquin Phoenix   \n15  2020   FEMALE ACTOR IN A SUPPORTING ROLE            Laura Dern   \n16  2020   FEMALE ACTOR IN A SUPPORTING ROLE    Scarlett Johansson   \n17  2020   FEMALE ACTOR IN A SUPPORTING ROLE         Nicole Kidman   \n18  2020   FEMALE ACTOR IN A SUPPORTING ROLE        Jennifer Lopez   \n19  2020   FEMALE ACTOR IN A SUPPORTING ROLE         Margot Robbie   \n20  2020     MALE ACTOR IN A SUPPORTING ROLE            Jamie Foxx   \n21  2020     MALE ACTOR IN A SUPPORTING ROLE             Tom Hanks   \n22  2020     MALE ACTOR IN A SUPPORTING ROLE             Al Pacino   \n23  2020     MALE ACTOR IN A SUPPORTING ROLE             Joe Pesci   \n24  2020     MALE ACTOR IN A SUPPORTING ROLE             Brad Pitt   \n30  2020      FEMALE ACTOR IN A DRAMA SERIES      Jennifer Aniston   \n31  2020      FEMALE ACTOR IN A DRAMA SERIES  Helena Bonham Carter   \n32  2020      FEMALE ACTOR IN A DRAMA SERIES         Olivia Colman   \n33  2020      FEMALE ACTOR IN A DRAMA SERIES           Jodie Comer   \n34  2020      FEMALE ACTOR IN A DRAMA SERIES        Elisabeth Moss   \n35  2020        MALE ACTOR IN A DRAMA SERIES     Sterling K. Brown   \n36  2020        MALE ACTOR IN A DRAMA SERIES          Steve Carell   \n37  2020        MALE ACTOR IN A DRAMA SERIES          Billy Crudup   \n38  2020        MALE ACTOR IN A DRAMA SERIES        Peter Dinklage   \n39  2020        MALE ACTOR IN A DRAMA SERIES         David Harbour   \n\n                                  title    won  \nid                                              \n5                               Harriet  False  \n6                        Marriage Story  False  \n7                                    Us  False  \n8                             Bombshell  False  \n9                                  Judy   True  \n10                       Ford V Ferrari  False  \n11      Once Upon A Time...In Hollywood  False  \n12                       Marriage Story  False  \n13                            Rocketman  False  \n14                                Joker   True  \n15                       Marriage Story   True  \n16                          Jojo Rabbit  False  \n17                            Bombshell  False  \n18                             Hustlers  False  \n19                            Bombshell  False  \n20                           Just Mercy  False  \n21  A Beautiful Day In The Neighborhood  False  \n22                         The Irishman  False  \n23                         The Irishman  False  \n24      Once Upon A Time...In Hollywood   True  \n30                     The Morning Show   True  \n31                            The Crown  False  \n32                            The Crown  False  \n33                          Killing Eve  False  \n34                  The Handmaid'S Tale  False  \n35                           This Is Us  False  \n36                     The Morning Show  False  \n37                     The Morning Show  False  \n38                      Game Of Thrones   True  \n39                      Stranger Things  False  ",
      "text/html": "<div>\n<style scoped>\n    .dataframe tbody tr th:only-of-type {\n        vertical-align: middle;\n    }\n\n    .dataframe tbody tr th {\n        vertical-align: top;\n    }\n\n    .dataframe thead th {\n        text-align: right;\n    }\n</style>\n<table border=\"1\" class=\"dataframe\">\n  <thead>\n    <tr style=\"text-align: right;\">\n      <th></th>\n      <th>year</th>\n      <th>category</th>\n      <th>full_name</th>\n      <th>title</th>\n      <th>won</th>\n    </tr>\n    <tr>\n      <th>id</th>\n      <th></th>\n      <th></th>\n      <th></th>\n      <th></th>\n      <th></th>\n    </tr>\n  </thead>\n  <tbody>\n    <tr>\n      <th>5</th>\n      <td>2020</td>\n      <td>FEMALE ACTOR IN A LEADING ROLE</td>\n      <td>Cynthia Erivo</td>\n      <td>Harriet</td>\n      <td>False</td>\n    </tr>\n    <tr>\n      <th>6</th>\n      <td>2020</td>\n      <td>FEMALE ACTOR IN A LEADING ROLE</td>\n      <td>Scarlett Johansson</td>\n      <td>Marriage Story</td>\n      <td>False</td>\n    </tr>\n    <tr>\n      <th>7</th>\n      <td>2020</td>\n      <td>FEMALE ACTOR IN A LEADING ROLE</td>\n      <td>Lupita Nyong'O</td>\n      <td>Us</td>\n      <td>False</td>\n    </tr>\n    <tr>\n      <th>8</th>\n      <td>2020</td>\n      <td>FEMALE ACTOR IN A LEADING ROLE</td>\n      <td>Charlize Theron</td>\n      <td>Bombshell</td>\n      <td>False</td>\n    </tr>\n    <tr>\n      <th>9</th>\n      <td>2020</td>\n      <td>FEMALE ACTOR IN A LEADING ROLE</td>\n      <td>Renée Zellweger</td>\n      <td>Judy</td>\n      <td>True</td>\n    </tr>\n    <tr>\n      <th>10</th>\n      <td>2020</td>\n      <td>MALE ACTOR IN A LEADING ROLE</td>\n      <td>Christian Bale</td>\n      <td>Ford V Ferrari</td>\n      <td>False</td>\n    </tr>\n    <tr>\n      <th>11</th>\n      <td>2020</td>\n      <td>MALE ACTOR IN A LEADING ROLE</td>\n      <td>Leonardo Dicaprio</td>\n      <td>Once Upon A Time...In Hollywood</td>\n      <td>False</td>\n    </tr>\n    <tr>\n      <th>12</th>\n      <td>2020</td>\n      <td>MALE ACTOR IN A LEADING ROLE</td>\n      <td>Adam Driver</td>\n      <td>Marriage Story</td>\n      <td>False</td>\n    </tr>\n    <tr>\n      <th>13</th>\n      <td>2020</td>\n      <td>MALE ACTOR IN A LEADING ROLE</td>\n      <td>Taron Egerton</td>\n      <td>Rocketman</td>\n      <td>False</td>\n    </tr>\n    <tr>\n      <th>14</th>\n      <td>2020</td>\n      <td>MALE ACTOR IN A LEADING ROLE</td>\n      <td>Joaquin Phoenix</td>\n      <td>Joker</td>\n      <td>True</td>\n    </tr>\n    <tr>\n      <th>15</th>\n      <td>2020</td>\n      <td>FEMALE ACTOR IN A SUPPORTING ROLE</td>\n      <td>Laura Dern</td>\n      <td>Marriage Story</td>\n      <td>True</td>\n    </tr>\n    <tr>\n      <th>16</th>\n      <td>2020</td>\n      <td>FEMALE ACTOR IN A SUPPORTING ROLE</td>\n      <td>Scarlett Johansson</td>\n      <td>Jojo Rabbit</td>\n      <td>False</td>\n    </tr>\n    <tr>\n      <th>17</th>\n      <td>2020</td>\n      <td>FEMALE ACTOR IN A SUPPORTING ROLE</td>\n      <td>Nicole Kidman</td>\n      <td>Bombshell</td>\n      <td>False</td>\n    </tr>\n    <tr>\n      <th>18</th>\n      <td>2020</td>\n      <td>FEMALE ACTOR IN A SUPPORTING ROLE</td>\n      <td>Jennifer Lopez</td>\n      <td>Hustlers</td>\n      <td>False</td>\n    </tr>\n    <tr>\n      <th>19</th>\n      <td>2020</td>\n      <td>FEMALE ACTOR IN A SUPPORTING ROLE</td>\n      <td>Margot Robbie</td>\n      <td>Bombshell</td>\n      <td>False</td>\n    </tr>\n    <tr>\n      <th>20</th>\n      <td>2020</td>\n      <td>MALE ACTOR IN A SUPPORTING ROLE</td>\n      <td>Jamie Foxx</td>\n      <td>Just Mercy</td>\n      <td>False</td>\n    </tr>\n    <tr>\n      <th>21</th>\n      <td>2020</td>\n      <td>MALE ACTOR IN A SUPPORTING ROLE</td>\n      <td>Tom Hanks</td>\n      <td>A Beautiful Day In The Neighborhood</td>\n      <td>False</td>\n    </tr>\n    <tr>\n      <th>22</th>\n      <td>2020</td>\n      <td>MALE ACTOR IN A SUPPORTING ROLE</td>\n      <td>Al Pacino</td>\n      <td>The Irishman</td>\n      <td>False</td>\n    </tr>\n    <tr>\n      <th>23</th>\n      <td>2020</td>\n      <td>MALE ACTOR IN A SUPPORTING ROLE</td>\n      <td>Joe Pesci</td>\n      <td>The Irishman</td>\n      <td>False</td>\n    </tr>\n    <tr>\n      <th>24</th>\n      <td>2020</td>\n      <td>MALE ACTOR IN A SUPPORTING ROLE</td>\n      <td>Brad Pitt</td>\n      <td>Once Upon A Time...In Hollywood</td>\n      <td>True</td>\n    </tr>\n    <tr>\n      <th>30</th>\n      <td>2020</td>\n      <td>FEMALE ACTOR IN A DRAMA SERIES</td>\n      <td>Jennifer Aniston</td>\n      <td>The Morning Show</td>\n      <td>True</td>\n    </tr>\n    <tr>\n      <th>31</th>\n      <td>2020</td>\n      <td>FEMALE ACTOR IN A DRAMA SERIES</td>\n      <td>Helena Bonham Carter</td>\n      <td>The Crown</td>\n      <td>False</td>\n    </tr>\n    <tr>\n      <th>32</th>\n      <td>2020</td>\n      <td>FEMALE ACTOR IN A DRAMA SERIES</td>\n      <td>Olivia Colman</td>\n      <td>The Crown</td>\n      <td>False</td>\n    </tr>\n    <tr>\n      <th>33</th>\n      <td>2020</td>\n      <td>FEMALE ACTOR IN A DRAMA SERIES</td>\n      <td>Jodie Comer</td>\n      <td>Killing Eve</td>\n      <td>False</td>\n    </tr>\n    <tr>\n      <th>34</th>\n      <td>2020</td>\n      <td>FEMALE ACTOR IN A DRAMA SERIES</td>\n      <td>Elisabeth Moss</td>\n      <td>The Handmaid'S Tale</td>\n      <td>False</td>\n    </tr>\n    <tr>\n      <th>35</th>\n      <td>2020</td>\n      <td>MALE ACTOR IN A DRAMA SERIES</td>\n      <td>Sterling K. Brown</td>\n      <td>This Is Us</td>\n      <td>False</td>\n    </tr>\n    <tr>\n      <th>36</th>\n      <td>2020</td>\n      <td>MALE ACTOR IN A DRAMA SERIES</td>\n      <td>Steve Carell</td>\n      <td>The Morning Show</td>\n      <td>False</td>\n    </tr>\n    <tr>\n      <th>37</th>\n      <td>2020</td>\n      <td>MALE ACTOR IN A DRAMA SERIES</td>\n      <td>Billy Crudup</td>\n      <td>The Morning Show</td>\n      <td>False</td>\n    </tr>\n    <tr>\n      <th>38</th>\n      <td>2020</td>\n      <td>MALE ACTOR IN A DRAMA SERIES</td>\n      <td>Peter Dinklage</td>\n      <td>Game Of Thrones</td>\n      <td>True</td>\n    </tr>\n    <tr>\n      <th>39</th>\n      <td>2020</td>\n      <td>MALE ACTOR IN A DRAMA SERIES</td>\n      <td>David Harbour</td>\n      <td>Stranger Things</td>\n      <td>False</td>\n    </tr>\n  </tbody>\n</table>\n</div>"
     },
     "metadata": {},
     "execution_count": 27
    }
   ],
   "source": [
    "sag_df['years_cleaned'] = pd.Series(years)\n",
    "cleaned_stage1_sag = sag_df[['years_cleaned','category','full_name','show','won']].copy()\n",
    "# cleaned_stage1_sag = cleaned_stage1_sag[cleaned_stage1_sag['years_cleaned']=='2019']\n",
    "cleaned_stage2_sag = cleaned_stage1_sag.dropna().reset_index()\n",
    "cleaned_stage2_sag['full_name'] = cleaned_stage2_sag['full_name'].str.title().str.strip()\n",
    "cleaned_stage2_sag['show'] = cleaned_stage2_sag['show'].str.title().str.strip()\n",
    "cleaned_stage3_sag = cleaned_stage2_sag.rename(columns={'years_cleaned':'year','index':'id','show':'title'})\n",
    "final_sag_df = cleaned_stage3_sag.set_index('id')\n",
    "final_sag_df.head(30)"
   ]
  },
  {
   "cell_type": "code",
   "execution_count": 31,
   "metadata": {},
   "outputs": [
    {
     "output_type": "execute_result",
     "data": {
      "text/plain": "         id   show_id   type           director          full_name  \\\n2       279  80201906  Movie       Ryan Coogler   Chadwick Boseman   \n21      280  80201906  Movie       Ryan Coogler  Michael B. Jordan   \n39      282  80201906  Movie       Ryan Coogler       Danai Gurira   \n56      283  80201906  Movie       Ryan Coogler     Martin Freeman   \n64      284  80201906  Movie       Ryan Coogler     Daniel Kaluuya   \n...     ...       ...    ...                ...                ...   \n3953  28777    607931  Movie  Jocelyn Moorhouse      Kate Nelligan   \n3958  28778    607931  Movie  Jocelyn Moorhouse      Alfre Woodard   \n4018  28784    607931  Movie  Jocelyn Moorhouse       Maya Angelou   \n4051  28788    607931  Movie  Jocelyn Moorhouse       Jean Simmons   \n4082  28791    607931  Movie  Jocelyn Moorhouse    Samantha Mathis   \n\n      release_year                                        description  \\\n2             2018  T'Challa, the superpowered new leader of the h...   \n21            2018  T'Challa, the superpowered new leader of the h...   \n39            2018  T'Challa, the superpowered new leader of the h...   \n56            2018  T'Challa, the superpowered new leader of the h...   \n64            2018  T'Challa, the superpowered new leader of the h...   \n...            ...                                                ...   \n3953          1995  A conflicted young woman spends the summer wit...   \n3958          1995  A conflicted young woman spends the summer wit...   \n4018          1995  A conflicted young woman spends the summer wit...   \n4051          1995  A conflicted young woman spends the summer wit...   \n4082          1995  A conflicted young woman spends the summer wit...   \n\n                      category    won  \n2     CAST IN A MOTION PICTURE   True  \n21    CAST IN A MOTION PICTURE   True  \n39    CAST IN A MOTION PICTURE   True  \n56    CAST IN A MOTION PICTURE   True  \n64    CAST IN A MOTION PICTURE   True  \n...                        ...    ...  \n3953  CAST IN A MOTION PICTURE  False  \n3958  CAST IN A MOTION PICTURE  False  \n4018  CAST IN A MOTION PICTURE  False  \n4051  CAST IN A MOTION PICTURE  False  \n4082  CAST IN A MOTION PICTURE  False  \n\n[279 rows x 9 columns]",
      "text/html": "<div>\n<style scoped>\n    .dataframe tbody tr th:only-of-type {\n        vertical-align: middle;\n    }\n\n    .dataframe tbody tr th {\n        vertical-align: top;\n    }\n\n    .dataframe thead th {\n        text-align: right;\n    }\n</style>\n<table border=\"1\" class=\"dataframe\">\n  <thead>\n    <tr style=\"text-align: right;\">\n      <th></th>\n      <th>id</th>\n      <th>show_id</th>\n      <th>type</th>\n      <th>director</th>\n      <th>full_name</th>\n      <th>release_year</th>\n      <th>description</th>\n      <th>category</th>\n      <th>won</th>\n    </tr>\n  </thead>\n  <tbody>\n    <tr>\n      <th>2</th>\n      <td>279</td>\n      <td>80201906</td>\n      <td>Movie</td>\n      <td>Ryan Coogler</td>\n      <td>Chadwick Boseman</td>\n      <td>2018</td>\n      <td>T'Challa, the superpowered new leader of the h...</td>\n      <td>CAST IN A MOTION PICTURE</td>\n      <td>True</td>\n    </tr>\n    <tr>\n      <th>21</th>\n      <td>280</td>\n      <td>80201906</td>\n      <td>Movie</td>\n      <td>Ryan Coogler</td>\n      <td>Michael B. Jordan</td>\n      <td>2018</td>\n      <td>T'Challa, the superpowered new leader of the h...</td>\n      <td>CAST IN A MOTION PICTURE</td>\n      <td>True</td>\n    </tr>\n    <tr>\n      <th>39</th>\n      <td>282</td>\n      <td>80201906</td>\n      <td>Movie</td>\n      <td>Ryan Coogler</td>\n      <td>Danai Gurira</td>\n      <td>2018</td>\n      <td>T'Challa, the superpowered new leader of the h...</td>\n      <td>CAST IN A MOTION PICTURE</td>\n      <td>True</td>\n    </tr>\n    <tr>\n      <th>56</th>\n      <td>283</td>\n      <td>80201906</td>\n      <td>Movie</td>\n      <td>Ryan Coogler</td>\n      <td>Martin Freeman</td>\n      <td>2018</td>\n      <td>T'Challa, the superpowered new leader of the h...</td>\n      <td>CAST IN A MOTION PICTURE</td>\n      <td>True</td>\n    </tr>\n    <tr>\n      <th>64</th>\n      <td>284</td>\n      <td>80201906</td>\n      <td>Movie</td>\n      <td>Ryan Coogler</td>\n      <td>Daniel Kaluuya</td>\n      <td>2018</td>\n      <td>T'Challa, the superpowered new leader of the h...</td>\n      <td>CAST IN A MOTION PICTURE</td>\n      <td>True</td>\n    </tr>\n    <tr>\n      <th>...</th>\n      <td>...</td>\n      <td>...</td>\n      <td>...</td>\n      <td>...</td>\n      <td>...</td>\n      <td>...</td>\n      <td>...</td>\n      <td>...</td>\n      <td>...</td>\n    </tr>\n    <tr>\n      <th>3953</th>\n      <td>28777</td>\n      <td>607931</td>\n      <td>Movie</td>\n      <td>Jocelyn Moorhouse</td>\n      <td>Kate Nelligan</td>\n      <td>1995</td>\n      <td>A conflicted young woman spends the summer wit...</td>\n      <td>CAST IN A MOTION PICTURE</td>\n      <td>False</td>\n    </tr>\n    <tr>\n      <th>3958</th>\n      <td>28778</td>\n      <td>607931</td>\n      <td>Movie</td>\n      <td>Jocelyn Moorhouse</td>\n      <td>Alfre Woodard</td>\n      <td>1995</td>\n      <td>A conflicted young woman spends the summer wit...</td>\n      <td>CAST IN A MOTION PICTURE</td>\n      <td>False</td>\n    </tr>\n    <tr>\n      <th>4018</th>\n      <td>28784</td>\n      <td>607931</td>\n      <td>Movie</td>\n      <td>Jocelyn Moorhouse</td>\n      <td>Maya Angelou</td>\n      <td>1995</td>\n      <td>A conflicted young woman spends the summer wit...</td>\n      <td>CAST IN A MOTION PICTURE</td>\n      <td>False</td>\n    </tr>\n    <tr>\n      <th>4051</th>\n      <td>28788</td>\n      <td>607931</td>\n      <td>Movie</td>\n      <td>Jocelyn Moorhouse</td>\n      <td>Jean Simmons</td>\n      <td>1995</td>\n      <td>A conflicted young woman spends the summer wit...</td>\n      <td>CAST IN A MOTION PICTURE</td>\n      <td>False</td>\n    </tr>\n    <tr>\n      <th>4082</th>\n      <td>28791</td>\n      <td>607931</td>\n      <td>Movie</td>\n      <td>Jocelyn Moorhouse</td>\n      <td>Samantha Mathis</td>\n      <td>1995</td>\n      <td>A conflicted young woman spends the summer wit...</td>\n      <td>CAST IN A MOTION PICTURE</td>\n      <td>False</td>\n    </tr>\n  </tbody>\n</table>\n<p>279 rows × 9 columns</p>\n</div>"
     },
     "metadata": {},
     "execution_count": 31
    }
   ],
   "source": [
    "merge_test = pd.merge(final_netflix_df, final_sag_df, on='title')\n",
    "merge_test = merge_test[merge_test['full_name_x'] == merge_test['full_name_y']]\n",
    "merge_test_stage2 = merge_test[['id','show_id','type','director','full_name_x','release_year','description','category','won']]\n",
    "merge_test_stage3 = merge_test_stage2.rename(columns={'full_name_x':'full_name'})\n",
    "merge_test_stage3"
   ]
  },
  {
   "cell_type": "code",
   "execution_count": null,
   "metadata": {},
   "outputs": [],
   "source": []
  }
 ]
}