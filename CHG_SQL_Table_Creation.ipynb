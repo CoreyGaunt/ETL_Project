{
 "metadata": {
  "language_info": {
   "codemirror_mode": {
    "name": "ipython",
    "version": 3
   },
   "file_extension": ".py",
   "mimetype": "text/x-python",
   "name": "python",
   "nbconvert_exporter": "python",
   "pygments_lexer": "ipython3",
   "version": "3.7.6-final"
  },
  "orig_nbformat": 2,
  "kernelspec": {
   "name": "python_defaultSpec_1600542471879",
   "display_name": "Python 3.7.6 64-bit ('base': conda)"
  }
 },
 "nbformat": 4,
 "nbformat_minor": 2,
 "cells": [
  {
   "cell_type": "code",
   "execution_count": 1,
   "metadata": {},
   "outputs": [],
   "source": [
    "import pandas as pd\n",
    "import os, csv\n",
    "import numpy as np\n",
    "from sqlalchemy import create_engine\n"
   ]
  },
  {
   "cell_type": "code",
   "execution_count": 3,
   "metadata": {},
   "outputs": [
    {
     "output_type": "execute_result",
     "data": {
      "text/plain": "        id   show_id   type           director          full_name  \\\n0      279  80201906  Movie       Ryan Coogler   Chadwick Boseman   \n1      280  80201906  Movie       Ryan Coogler  Michael B. Jordan   \n2      282  80201906  Movie       Ryan Coogler       Danai Gurira   \n3      283  80201906  Movie       Ryan Coogler     Martin Freeman   \n4      284  80201906  Movie       Ryan Coogler     Daniel Kaluuya   \n..     ...       ...    ...                ...                ...   \n274  28777    607931  Movie  Jocelyn Moorhouse      Kate Nelligan   \n275  28778    607931  Movie  Jocelyn Moorhouse      Alfre Woodard   \n276  28784    607931  Movie  Jocelyn Moorhouse       Maya Angelou   \n277  28788    607931  Movie  Jocelyn Moorhouse       Jean Simmons   \n278  28791    607931  Movie  Jocelyn Moorhouse    Samantha Mathis   \n\n     release_year                                        description  \\\n0            2018  T'Challa, the superpowered new leader of the h...   \n1            2018  T'Challa, the superpowered new leader of the h...   \n2            2018  T'Challa, the superpowered new leader of the h...   \n3            2018  T'Challa, the superpowered new leader of the h...   \n4            2018  T'Challa, the superpowered new leader of the h...   \n..            ...                                                ...   \n274          1995  A conflicted young woman spends the summer wit...   \n275          1995  A conflicted young woman spends the summer wit...   \n276          1995  A conflicted young woman spends the summer wit...   \n277          1995  A conflicted young woman spends the summer wit...   \n278          1995  A conflicted young woman spends the summer wit...   \n\n                     category    won  \n0    CAST IN A MOTION PICTURE   True  \n1    CAST IN A MOTION PICTURE   True  \n2    CAST IN A MOTION PICTURE   True  \n3    CAST IN A MOTION PICTURE   True  \n4    CAST IN A MOTION PICTURE   True  \n..                        ...    ...  \n274  CAST IN A MOTION PICTURE  False  \n275  CAST IN A MOTION PICTURE  False  \n276  CAST IN A MOTION PICTURE  False  \n277  CAST IN A MOTION PICTURE  False  \n278  CAST IN A MOTION PICTURE  False  \n\n[279 rows x 9 columns]",
      "text/html": "<div>\n<style scoped>\n    .dataframe tbody tr th:only-of-type {\n        vertical-align: middle;\n    }\n\n    .dataframe tbody tr th {\n        vertical-align: top;\n    }\n\n    .dataframe thead th {\n        text-align: right;\n    }\n</style>\n<table border=\"1\" class=\"dataframe\">\n  <thead>\n    <tr style=\"text-align: right;\">\n      <th></th>\n      <th>id</th>\n      <th>show_id</th>\n      <th>type</th>\n      <th>director</th>\n      <th>full_name</th>\n      <th>release_year</th>\n      <th>description</th>\n      <th>category</th>\n      <th>won</th>\n    </tr>\n  </thead>\n  <tbody>\n    <tr>\n      <th>0</th>\n      <td>279</td>\n      <td>80201906</td>\n      <td>Movie</td>\n      <td>Ryan Coogler</td>\n      <td>Chadwick Boseman</td>\n      <td>2018</td>\n      <td>T'Challa, the superpowered new leader of the h...</td>\n      <td>CAST IN A MOTION PICTURE</td>\n      <td>True</td>\n    </tr>\n    <tr>\n      <th>1</th>\n      <td>280</td>\n      <td>80201906</td>\n      <td>Movie</td>\n      <td>Ryan Coogler</td>\n      <td>Michael B. Jordan</td>\n      <td>2018</td>\n      <td>T'Challa, the superpowered new leader of the h...</td>\n      <td>CAST IN A MOTION PICTURE</td>\n      <td>True</td>\n    </tr>\n    <tr>\n      <th>2</th>\n      <td>282</td>\n      <td>80201906</td>\n      <td>Movie</td>\n      <td>Ryan Coogler</td>\n      <td>Danai Gurira</td>\n      <td>2018</td>\n      <td>T'Challa, the superpowered new leader of the h...</td>\n      <td>CAST IN A MOTION PICTURE</td>\n      <td>True</td>\n    </tr>\n    <tr>\n      <th>3</th>\n      <td>283</td>\n      <td>80201906</td>\n      <td>Movie</td>\n      <td>Ryan Coogler</td>\n      <td>Martin Freeman</td>\n      <td>2018</td>\n      <td>T'Challa, the superpowered new leader of the h...</td>\n      <td>CAST IN A MOTION PICTURE</td>\n      <td>True</td>\n    </tr>\n    <tr>\n      <th>4</th>\n      <td>284</td>\n      <td>80201906</td>\n      <td>Movie</td>\n      <td>Ryan Coogler</td>\n      <td>Daniel Kaluuya</td>\n      <td>2018</td>\n      <td>T'Challa, the superpowered new leader of the h...</td>\n      <td>CAST IN A MOTION PICTURE</td>\n      <td>True</td>\n    </tr>\n    <tr>\n      <th>...</th>\n      <td>...</td>\n      <td>...</td>\n      <td>...</td>\n      <td>...</td>\n      <td>...</td>\n      <td>...</td>\n      <td>...</td>\n      <td>...</td>\n      <td>...</td>\n    </tr>\n    <tr>\n      <th>274</th>\n      <td>28777</td>\n      <td>607931</td>\n      <td>Movie</td>\n      <td>Jocelyn Moorhouse</td>\n      <td>Kate Nelligan</td>\n      <td>1995</td>\n      <td>A conflicted young woman spends the summer wit...</td>\n      <td>CAST IN A MOTION PICTURE</td>\n      <td>False</td>\n    </tr>\n    <tr>\n      <th>275</th>\n      <td>28778</td>\n      <td>607931</td>\n      <td>Movie</td>\n      <td>Jocelyn Moorhouse</td>\n      <td>Alfre Woodard</td>\n      <td>1995</td>\n      <td>A conflicted young woman spends the summer wit...</td>\n      <td>CAST IN A MOTION PICTURE</td>\n      <td>False</td>\n    </tr>\n    <tr>\n      <th>276</th>\n      <td>28784</td>\n      <td>607931</td>\n      <td>Movie</td>\n      <td>Jocelyn Moorhouse</td>\n      <td>Maya Angelou</td>\n      <td>1995</td>\n      <td>A conflicted young woman spends the summer wit...</td>\n      <td>CAST IN A MOTION PICTURE</td>\n      <td>False</td>\n    </tr>\n    <tr>\n      <th>277</th>\n      <td>28788</td>\n      <td>607931</td>\n      <td>Movie</td>\n      <td>Jocelyn Moorhouse</td>\n      <td>Jean Simmons</td>\n      <td>1995</td>\n      <td>A conflicted young woman spends the summer wit...</td>\n      <td>CAST IN A MOTION PICTURE</td>\n      <td>False</td>\n    </tr>\n    <tr>\n      <th>278</th>\n      <td>28791</td>\n      <td>607931</td>\n      <td>Movie</td>\n      <td>Jocelyn Moorhouse</td>\n      <td>Samantha Mathis</td>\n      <td>1995</td>\n      <td>A conflicted young woman spends the summer wit...</td>\n      <td>CAST IN A MOTION PICTURE</td>\n      <td>False</td>\n    </tr>\n  </tbody>\n</table>\n<p>279 rows × 9 columns</p>\n</div>"
     },
     "metadata": {},
     "execution_count": 3
    }
   ],
   "source": [
    "data = os.path.join('Resources','cleaned_merged','cleaned_netflix_sag_data.csv')\n",
    "data1 = pd.read_csv(data)\n",
    "data_df = pd.DataFrame(data1).drop(columns='Unnamed: 0')\n",
    "data_df"
   ]
  },
  {
   "cell_type": "code",
   "execution_count": null,
   "metadata": {},
   "outputs": [],
   "source": []
  }
 ]
}